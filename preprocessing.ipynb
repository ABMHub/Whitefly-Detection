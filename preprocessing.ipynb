{
 "cells": [
  {
   "cell_type": "markdown",
   "metadata": {},
   "source": [
    "Aluno: Lucas de Almeida Bandeira Macedo\n",
    "\n",
    "Matrícula: 19/0047089\n",
    "\n",
    "Este notebook foi construído seguindo o tutorial persente no Medium: [TRAIN A CUSTOM YOLOv4 OBJECT DETECTOR (Using Google Colab)](https://medium.com/p/61a659d4868#a777)\n",
    "\n",
    "E utiliza a implementação do Yolov4 presente no seguinte repositório: [AlexeyAB/darknet](https://github.com/AlexeyAB/darknet)\n"
   ]
  },
  {
   "cell_type": "markdown",
   "metadata": {},
   "source": [
    "## Preprocessamento"
   ]
  },
  {
   "cell_type": "code",
   "execution_count": 15,
   "metadata": {},
   "outputs": [],
   "source": [
    "import os\n",
    "import pandas as pd\n",
    "from sklearn.model_selection import train_test_split\n",
    "import re"
   ]
  },
  {
   "cell_type": "code",
   "execution_count": 16,
   "metadata": {},
   "outputs": [
    {
     "data": {
      "text/plain": [
       "['low_abundance', 'moderate_abundance', 'super_abundance']"
      ]
     },
     "execution_count": 16,
     "metadata": {},
     "output_type": "execute_result"
    }
   ],
   "source": [
    "data_dir_list = os.listdir(\"data\")\n",
    "data_dir_list"
   ]
  },
  {
   "cell_type": "code",
   "execution_count": 17,
   "metadata": {},
   "outputs": [
    {
     "data": {
      "text/html": [
       "<div>\n",
       "<style scoped>\n",
       "    .dataframe tbody tr th:only-of-type {\n",
       "        vertical-align: middle;\n",
       "    }\n",
       "\n",
       "    .dataframe tbody tr th {\n",
       "        vertical-align: top;\n",
       "    }\n",
       "\n",
       "    .dataframe thead th {\n",
       "        text-align: right;\n",
       "    }\n",
       "</style>\n",
       "<table border=\"1\" class=\"dataframe\">\n",
       "  <thead>\n",
       "    <tr style=\"text-align: right;\">\n",
       "      <th></th>\n",
       "      <th>abundance</th>\n",
       "      <th>img_path</th>\n",
       "      <th>label_path</th>\n",
       "    </tr>\n",
       "  </thead>\n",
       "  <tbody>\n",
       "    <tr>\n",
       "      <th>0</th>\n",
       "      <td>low_abundance</td>\n",
       "      <td>data/low_abundance/images/IMG_20190218_230557_...</td>\n",
       "      <td>data/low_abundance/images/IMG_20190218_230557_...</td>\n",
       "    </tr>\n",
       "    <tr>\n",
       "      <th>1</th>\n",
       "      <td>low_abundance</td>\n",
       "      <td>data/low_abundance/images/IMG_20190218_230743_...</td>\n",
       "      <td>data/low_abundance/images/IMG_20190218_230743_...</td>\n",
       "    </tr>\n",
       "    <tr>\n",
       "      <th>2</th>\n",
       "      <td>low_abundance</td>\n",
       "      <td>data/low_abundance/images/IMG_20190218_230929_...</td>\n",
       "      <td>data/low_abundance/images/IMG_20190218_230929_...</td>\n",
       "    </tr>\n",
       "    <tr>\n",
       "      <th>3</th>\n",
       "      <td>low_abundance</td>\n",
       "      <td>data/low_abundance/images/IMG_20190218_230957_...</td>\n",
       "      <td>data/low_abundance/images/IMG_20190218_230957_...</td>\n",
       "    </tr>\n",
       "    <tr>\n",
       "      <th>4</th>\n",
       "      <td>low_abundance</td>\n",
       "      <td>data/low_abundance/images/IMG_20190218_231025_...</td>\n",
       "      <td>data/low_abundance/images/IMG_20190218_231025_...</td>\n",
       "    </tr>\n",
       "    <tr>\n",
       "      <th>...</th>\n",
       "      <td>...</td>\n",
       "      <td>...</td>\n",
       "      <td>...</td>\n",
       "    </tr>\n",
       "    <tr>\n",
       "      <th>2995</th>\n",
       "      <td>super_abundance</td>\n",
       "      <td>data/super_abundance/images/IMG_20190313_06215...</td>\n",
       "      <td>data/super_abundance/images/IMG_20190313_06215...</td>\n",
       "    </tr>\n",
       "    <tr>\n",
       "      <th>2996</th>\n",
       "      <td>super_abundance</td>\n",
       "      <td>data/super_abundance/images/IMG_20190313_06222...</td>\n",
       "      <td>data/super_abundance/images/IMG_20190313_06222...</td>\n",
       "    </tr>\n",
       "    <tr>\n",
       "      <th>2997</th>\n",
       "      <td>super_abundance</td>\n",
       "      <td>data/super_abundance/images/IMG_20190313_06222...</td>\n",
       "      <td>data/super_abundance/images/IMG_20190313_06222...</td>\n",
       "    </tr>\n",
       "    <tr>\n",
       "      <th>2998</th>\n",
       "      <td>super_abundance</td>\n",
       "      <td>data/super_abundance/images/IMG_20190313_06224...</td>\n",
       "      <td>data/super_abundance/images/IMG_20190313_06224...</td>\n",
       "    </tr>\n",
       "    <tr>\n",
       "      <th>2999</th>\n",
       "      <td>super_abundance</td>\n",
       "      <td>data/super_abundance/images/IMG_20190313_06225...</td>\n",
       "      <td>data/super_abundance/images/IMG_20190313_06225...</td>\n",
       "    </tr>\n",
       "  </tbody>\n",
       "</table>\n",
       "<p>3000 rows × 3 columns</p>\n",
       "</div>"
      ],
      "text/plain": [
       "            abundance                                           img_path  \\\n",
       "0       low_abundance  data/low_abundance/images/IMG_20190218_230557_...   \n",
       "1       low_abundance  data/low_abundance/images/IMG_20190218_230743_...   \n",
       "2       low_abundance  data/low_abundance/images/IMG_20190218_230929_...   \n",
       "3       low_abundance  data/low_abundance/images/IMG_20190218_230957_...   \n",
       "4       low_abundance  data/low_abundance/images/IMG_20190218_231025_...   \n",
       "...               ...                                                ...   \n",
       "2995  super_abundance  data/super_abundance/images/IMG_20190313_06215...   \n",
       "2996  super_abundance  data/super_abundance/images/IMG_20190313_06222...   \n",
       "2997  super_abundance  data/super_abundance/images/IMG_20190313_06222...   \n",
       "2998  super_abundance  data/super_abundance/images/IMG_20190313_06224...   \n",
       "2999  super_abundance  data/super_abundance/images/IMG_20190313_06225...   \n",
       "\n",
       "                                             label_path  \n",
       "0     data/low_abundance/images/IMG_20190218_230557_...  \n",
       "1     data/low_abundance/images/IMG_20190218_230743_...  \n",
       "2     data/low_abundance/images/IMG_20190218_230929_...  \n",
       "3     data/low_abundance/images/IMG_20190218_230957_...  \n",
       "4     data/low_abundance/images/IMG_20190218_231025_...  \n",
       "...                                                 ...  \n",
       "2995  data/super_abundance/images/IMG_20190313_06215...  \n",
       "2996  data/super_abundance/images/IMG_20190313_06222...  \n",
       "2997  data/super_abundance/images/IMG_20190313_06222...  \n",
       "2998  data/super_abundance/images/IMG_20190313_06224...  \n",
       "2999  data/super_abundance/images/IMG_20190313_06225...  \n",
       "\n",
       "[3000 rows x 3 columns]"
      ]
     },
     "execution_count": 17,
     "metadata": {},
     "output_type": "execute_result"
    }
   ],
   "source": [
    "d = {\"abundance\":[], \"img_path\": [], \"label_path\": []}\n",
    "for data_dir in data_dir_list:\n",
    "  img_file_name_list = os.listdir(f\"data/{data_dir}/images\")\n",
    "  lbl_file_name_list = os.listdir(f\"data/{data_dir}/annotation\")\n",
    "  for img_path, label_path in zip(sorted(img_file_name_list), sorted(lbl_file_name_list)):\n",
    "    d[\"abundance\"].append(data_dir)\n",
    "    d[\"img_path\"].append(f\"data/{data_dir}/images/{img_path}\")\n",
    "    d[\"label_path\"].append(f\"data/{data_dir}/images/{label_path}\")\n",
    "\n",
    "df = pd.DataFrame(d)\n",
    "df"
   ]
  },
  {
   "cell_type": "code",
   "execution_count": 18,
   "metadata": {},
   "outputs": [],
   "source": [
    "# X_train, X_test, y_train, y_test = train_test_split(X, y, test_size=0.33, random_state=42)"
   ]
  },
  {
   "cell_type": "markdown",
   "metadata": {},
   "source": [
    "## Configurações da Darknet"
   ]
  },
  {
   "cell_type": "code",
   "execution_count": 2,
   "metadata": {},
   "outputs": [
    {
     "name": "stdout",
     "output_type": "stream",
     "text": [
      "[Errno 2] No such file or directory: 'darknet/'\n",
      "/mnt/d/Programação/Projeto 2/darknet\n"
     ]
    }
   ],
   "source": [
    "# f = open(\"./darknet/Makefile\", \"r\")\n",
    "# content = f.read()\n",
    "# f.close()\n",
    "\n",
    "# content = re.sub(r\"GPU=0\", \"GPU=1\", content)\n",
    "# content = re.sub(r\"CUDNN=0\", \"CUDNN=1\", content)\n",
    "# content = re.sub(r\"CUDNN_HALF=0\", \"CUDNN_HALF=1\", content)\n",
    "# content = re.sub(r\"OPENCV=0\", \"OPENCV=1\", content)\n",
    "# content = re.sub(r\"LIBSO=0\", \"LIBSO=1\", content)\n",
    "\n",
    "# f = open(\"./darknet/Makefile\", \"w\")\n",
    "# f.write(content)\n",
    "# f.close()\n",
    "\n",
    "%cd darknet/\n",
    "!sed -i 's/OPENCV=0/OPENCV=1/' Makefile\n",
    "!sed -i 's/GPU=0/GPU=1/' Makefile\n",
    "!sed -i 's/CUDNN=0/CUDNN=1/' Makefile\n",
    "!sed -i 's/CUDNN_HALF=0/CUDNN_HALF=1/' Makefile\n",
    "!sed -i 's/LIBSO=0/LIBSO=1/' Makefile"
   ]
  },
  {
   "cell_type": "code",
   "execution_count": 3,
   "metadata": {},
   "outputs": [
    {
     "name": "stdout",
     "output_type": "stream",
     "text": [
      "chmod +x *.sh\n",
      "g++ -std=c++11 -std=c++11 -Iinclude/ -I3rdparty/stb/include -DOPENCV `pkg-config --cflags opencv4 2> /dev/null || pkg-config --cflags opencv` -DGPU -I/usr/local/cuda/include/ -DCUDNN -DCUDNN_HALF -Wall -Wfatal-errors -Wno-unused-result -Wno-unknown-pragmas -fPIC -Ofast -DOPENCV -DGPU -DCUDNN -I/usr/local/cudnn/include -DCUDNN_HALF -fPIC -c ./src/image_opencv.cpp -o obj/image_opencv.o\n",
      "Package opencv was not found in the pkg-config search path.\n",
      "Perhaps you should add the directory containing `opencv.pc'\n",
      "to the PKG_CONFIG_PATH environment variable\n",
      "No package 'opencv' found\n",
      "In file included from \u001b[01m\u001b[K./src/image.h:3\u001b[m\u001b[K,\n",
      "                 from \u001b[01m\u001b[K./src/image_opencv.h:4\u001b[m\u001b[K,\n",
      "                 from \u001b[01m\u001b[K./src/image_opencv.cpp:1\u001b[m\u001b[K:\n",
      "\u001b[01m\u001b[Kinclude/darknet.h:41:10:\u001b[m\u001b[K \u001b[01;31m\u001b[Kfatal error: \u001b[m\u001b[Kcuda_runtime.h: No such file or directory\n",
      "   41 | #include \u001b[01;31m\u001b[K<cuda_runtime.h>\u001b[m\u001b[K\n",
      "      |          \u001b[01;31m\u001b[K^~~~~~~~~~~~~~~~\u001b[m\u001b[K\n",
      "compilation terminated.\n",
      "make: *** [Makefile:182: obj/image_opencv.o] Error 1\n"
     ]
    }
   ],
   "source": [
    "!make"
   ]
  }
 ],
 "metadata": {
  "kernelspec": {
   "display_name": "Python 3.8.10 64-bit",
   "language": "python",
   "name": "python3"
  },
  "language_info": {
   "codemirror_mode": {
    "name": "ipython",
    "version": 3
   },
   "file_extension": ".py",
   "mimetype": "text/x-python",
   "name": "python",
   "nbconvert_exporter": "python",
   "pygments_lexer": "ipython3",
   "version": "3.8.10"
  },
  "orig_nbformat": 4,
  "vscode": {
   "interpreter": {
    "hash": "e7370f93d1d0cde622a1f8e1c04877d8463912d04d973331ad4851f04de6915a"
   }
  }
 },
 "nbformat": 4,
 "nbformat_minor": 2
}
